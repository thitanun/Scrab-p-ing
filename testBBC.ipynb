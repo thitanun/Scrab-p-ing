{
 "cells": [
  {
   "cell_type": "code",
   "execution_count": 1,
   "metadata": {},
   "outputs": [],
   "source": [
    "import pandas as pd\n",
    "import requests\n",
    "from bs4 import BeautifulSoup"
   ]
  },
  {
   "cell_type": "code",
   "execution_count": 2,
   "metadata": {},
   "outputs": [],
   "source": [
    "class news_BBC:\n",
    "    def __init__(self, url:str):\n",
    "        r = requests.get(url)\n",
    "        self.soup = BeautifulSoup(r.text, \"html.parser\")\n",
    "        self.link = self.get_link()\n",
    "        self.head = self.get_head()\n",
    "        self.body = self.get_body()\n",
    "        # self.content = self.get_content()\n",
    "        # self.save = self.get_save()\n",
    "\n",
    "    def get_link(self):\n",
    "        issue = self.soup.find_all('a', href = True, attrs = {'class' : 'qa-heading-link lx-stream-post__header-link'})\n",
    "        self.list_link = []\n",
    "        for i in issue:\n",
    "            self.list_link.append(\"https://www.bbc.com\"+i['href'])\n",
    "        return(self.list_link)\n",
    "\n",
    "    def get_head(self):\n",
    "        issue = self.soup.find_all('a', href = True, attrs = {'class' : 'qa-heading-link lx-stream-post__header-link'})\n",
    "        list_head = []\n",
    "        for i in issue:\n",
    "            # print('test', i.string)\n",
    "            if i.string == None:\n",
    "                pass\n",
    "            else:\n",
    "                list_head.append(i.string)\n",
    "        return(list_head)\n",
    "\n",
    "    def get_body(self):\n",
    "        # issue = self.soup.find_all('p', {'class' : 'lx-stream-related-story--summary qa-story-summary'} and {'class' : 'lx-media-asset-summary qa-map-summary gel-pica'})\n",
    "        issue = self.soup.find_all('p', {'class' : 'lx-stream-related-story--summary qa-story-summary'})\n",
    "        list_body = []\n",
    "        for i in issue:\n",
    "            if i.string == None:\n",
    "                pass\n",
    "            else:\n",
    "                list_body.append(i.string)\n",
    "        return(list_body)\n",
    "\n",
    "    # def get_content(self):\n",
    "    #     for j in self.list_link:\n",
    "    #         # print('url', j)\n",
    "    #         re = requests.get(j)\n",
    "    #         self.soup = BeautifulSoup(re.text, \"html.parser\")\n",
    "    #         issue = self.soup.find_all('p', {'class' : 'ssrcss-1q0x1qg-Paragraph eq5iqo00'})\n",
    "\n",
    "    #         list_content = []\n",
    "    #         for k in issue:\n",
    "    #             if k.string == None:\n",
    "    #                 pass\n",
    "    #             else:\n",
    "    #                 list_content.append(k.string)\n",
    "    #         return(list_content)\n",
    "\n",
    "\n",
    "    # def get_save(self):\n",
    "    #     table = {\"url\" : self.link, \"head\" : self.head, \"content\" : self.body}\n",
    "    #     df = pd.DataFrame(data = table)\n",
    "    #     df.to_excel('data-news' + '.xlsx', sheet_name='Sheet_name_01', index=False)\n",
    "    #     return df\n"
   ]
  },
  {
   "cell_type": "code",
   "execution_count": 3,
   "metadata": {},
   "outputs": [
    {
     "data": {
      "text/plain": [
       "['Ukraine rejects Russian demand to give up Mariupol',\n",
       " 'The lonely funeral of a young soldier in Ukraine',\n",
       " \"The wounded children of Putin's war\",\n",
       " \"Inside a children's hospital - Ukraine war round-up\",\n",
       " 'More must be done to end war says Ukrainian ex-pat',\n",
       " 'Backlash in Russia against anti-war musicians',\n",
       " \"Children bear the brunt of Putin's war in Mariupol\",\n",
       " 'Fury as PM compares Ukraine fight to Brexit vote',\n",
       " 'Ukrainian family in UK unsure if homes destroyed',\n",
       " 'Zoo staff raising money for Ukrainian counterparts',\n",
       " 'Maps: Major port encircled while Kharkiv holds firm',\n",
       " 'The Londoners ready to host Ukrainian refugees',\n",
       " 'Relief as Ukrainian sisters reunited in the UK',\n",
       " 'Emotional reunion of Ukrainian sisters at airport',\n",
       " 'Mariupol terror will go down in history - Zelensky',\n",
       " 'The village opening its arms to Ukraine refugees',\n",
       " 'Anonymous: How hackers are trying to undermine Putin',\n",
       " 'Russians are losing their jobs for opposing the war',\n",
       " \"What's driving Putin? Agents seek to get inside his head\",\n",
       " \"'I'm Australian but Ukraine is part of my identity'\"]"
      ]
     },
     "execution_count": 3,
     "metadata": {},
     "output_type": "execute_result"
    }
   ],
   "source": [
    "l = news_BBC(\"https://www.bbc.com/news/world-60525350\")\n",
    "l.head"
   ]
  },
  {
   "cell_type": "code",
   "execution_count": 4,
   "metadata": {},
   "outputs": [
    {
     "data": {
      "text/plain": [
       "['https://www.bbc.com/news/world-europe-60816885',\n",
       " 'https://www.bbc.com/news/world-europe-60801586',\n",
       " 'https://www.bbc.com/news/world-europe-60816865',\n",
       " 'https://www.bbc.com/news/world-europe-60814313',\n",
       " 'https://www.bbc.com/news/uk-england-bristol-60814964',\n",
       " 'https://www.bbc.com/news/world-europe-60814306',\n",
       " 'https://www.bbc.com/news/world-europe-60814913',\n",
       " 'https://www.bbc.com/news/uk-politics-60809454',\n",
       " 'https://www.bbc.com/news/uk-england-coventry-warwickshire-60813050',\n",
       " 'https://www.bbc.com/news/uk-england-devon-60794037',\n",
       " 'https://www.bbc.com/news/world-europe-60506682',\n",
       " 'https://www.bbc.com/news/uk-england-london-60787818',\n",
       " 'https://www.bbc.com/news/uk-england-somerset-60795241',\n",
       " 'https://www.bbc.com/news/uk-england-somerset-60799733',\n",
       " 'https://www.bbc.com/news/world-europe-60812438',\n",
       " 'https://www.bbc.com/news/uk-60810169',\n",
       " 'https://www.bbc.com/news/technology-60784526',\n",
       " 'https://www.bbc.com/news/world-europe-60793446',\n",
       " 'https://www.bbc.com/news/world-europe-60807134',\n",
       " 'https://www.bbc.com/news/world-australia-60598240']"
      ]
     },
     "execution_count": 4,
     "metadata": {},
     "output_type": "execute_result"
    }
   ],
   "source": [
    "l.link"
   ]
  },
  {
   "cell_type": "code",
   "execution_count": 5,
   "metadata": {},
   "outputs": [
    {
     "data": {
      "text/plain": [
       "['Russia issued an ultimatum offering to open humanitarian corridors in exchange for the surrender of the city.',\n",
       " 'As Dmytro Kotenko was laid to rest, his parents were 600 miles away, trapped under Russian bombs.',\n",
       " 'Ukrainian children suffer in hospital, and musicians are banned from Russian radio for opposing the war.',\n",
       " 'Yaroslav, who lives in Bristol, says more sanctions are needed to bring the war to an end.',\n",
       " 'Banned from radio stations and rumoured black lists, artists against the war face a difficult moment.',\n",
       " \"At a children's hospital near the besieged city, the true impact of Russia's tactics are on display.\",\n",
       " 'But chancellor Rishi Sunak says it was \"general observations about freedom\", not a direct comparison.',\n",
       " \"Barry Kruger takes in his mother-in-law, his wife's cousin and her daughter to Warwickshire.\",\n",
       " 'All profits from shops and restaurants and 50% of ticket takings this weekend will go to Ukraine.',\n",
       " 'Russian advances grind to a halt in many areas as Ukrainian forces launch counterattacks - but fighting is ongoing in Mariupol.',\n",
       " 'Iryna and Olya were overjoyed to finally be together again after weeks of worry.',\n",
       " 'The BBC speaks to hacktivists about past and future attacks in their \"cyber war\" against Vladimir Putin.',\n",
       " 'The BBC hears from three people whose opposition to the war cost them their employment.',\n",
       " \"Vladimir Putin's war in Ukraine shook the West. Now its leaders are trying to predict his next move.\",\n",
       " 'Despite being half a world away, Ukrainian-Australians say the war feels unbearably close.']"
      ]
     },
     "execution_count": 5,
     "metadata": {},
     "output_type": "execute_result"
    }
   ],
   "source": [
    "l.body"
   ]
  },
  {
   "cell_type": "code",
   "execution_count": 6,
   "metadata": {},
   "outputs": [],
   "source": [
    "# l.content"
   ]
  },
  {
   "cell_type": "code",
   "execution_count": 7,
   "metadata": {},
   "outputs": [],
   "source": [
    "# l.save"
   ]
  },
  {
   "cell_type": "code",
   "execution_count": 8,
   "metadata": {},
   "outputs": [
    {
     "name": "stdout",
     "output_type": "stream",
     "text": [
      "https://www.bbc.com/news/world-europe-60816885\n",
      "Ukraine rejects Russian demand to give up Mariupol\n"
     ]
    }
   ],
   "source": [
    "print(l.link[0])\n",
    "print(l.head[0])"
   ]
  },
  {
   "cell_type": "code",
   "execution_count": 9,
   "metadata": {},
   "outputs": [],
   "source": [
    "def get_content(url:str):\n",
    "    print('url', url)\n",
    "    print(\"\\n\")\n",
    "    re = requests.get(url)\n",
    "    soup = BeautifulSoup(re.text, \"html.parser\")\n",
    "    issue = soup.find_all('p', {'class' : 'ssrcss-1q0x1qg-Paragraph eq5iqo00'})\n",
    "\n",
    "    list_content = []\n",
    "    for k in issue:\n",
    "        if k.string == None:\n",
    "            pass\n",
    "        else:\n",
    "            print(k.string)\n",
    "            # list_content.append(k.string)\n",
    "    # return(list_content)"
   ]
  },
  {
   "cell_type": "code",
   "execution_count": 10,
   "metadata": {},
   "outputs": [
    {
     "name": "stdout",
     "output_type": "stream",
     "text": [
      "url https://www.bbc.com/news/world-europe-60816885\n",
      "\n",
      "\n",
      "Ukraine has rejected a Russian ultimatum offering people in the besieged city of Mariupol safe passage out of the port if they surrender.\n",
      "Under Russia's proposal, civilians would be allowed to leave if the city's defenders laid down arms. \n",
      "But Ukraine has refused, saying there was no question of it surrendering the strategic port city. \n",
      "Around 300,000 people are believed to be trapped there with supplies running out and aid blocked from entering.\n",
      "Residents have endured weeks of Russian bombardment with no power or running water. \n",
      "Details of the Russian proposal were laid out on Sunday by Gen Mikhail Mizintsev, who said Ukraine had until 05:00 Moscow time (02:00 GMT) on Monday morning to accept its terms.\n",
      "Under the plans, Russian troops would have opened safe corridors out of Mariupol from 10:00 Moscow time (07:00 GMT), initially for Ukrainian troops and \"foreign mercenaries\" to disarm and leave the city.\n",
      "After two hours, Russian forces say they would then have allowed humanitarian convoys with food, medicine and other supplies to enter the city safely, once the de-mining of the roads was complete.\n",
      "Russian Gen Mizintsev admitted that a terrible humanitarian catastrophe was unfolding there - and said the offer would have allowed civilians to flee safely to either the east or west. \n",
      "In response to the offer, Ukraine's Deputy Prime Minister Iryna Vereshchuk said Ukraine would not stop defending Mariupol.\n",
      "\"There can be no question of any surrender, laying down of arms,\" she was quoted by Ukrainska Pravda as saying.\n",
      "Earlier on Sunday, Pyotr Andryushenko, who is an adviser to the mayor of Mariupol, vowed the city's defenders would fight on.\n",
      "\"We will fight until the last of our soldiers,\" he said.\n",
      "He told the BBC's Newshour that Moscow's humanitarian promises could not be trusted, and repeated unconfirmed claims made by Mariupol officials in recent days that Russian forces have been forcibly evacuating some of its residents to Russia.\n",
      "\"When they [Russian forces] say about humanitarian corridors, what do they really do? They really force evacuate our people to Russia,\" Andryushenko said.\n",
      "The BBC has not been able to verify these accusations.\n",
      "Mariupol is a key strategic target for Russia and has seen some of the invasion's deadliest fighting.\n",
      "Russian troops have encircled the city over the past few weeks, trapping its residents inside without access to electricity, water or gas. \n",
      "Communication with civilians unable to leave is limited but food and medical supplies are believed to be running out and Russia has blocked any humanitarian aid from getting in.\n",
      "This video can not be played\n",
      "Since the invasion began the port city has witnessed some of the most intense fighting in all of Ukraine, with Russian forces so far failing to take the city from its defenders.\n",
      "After last week's destruction of a theatre where more than 1,000 people were sheltering, on Sunday authorities in Mariupol said that an arts school with 400 people inside has also been attacked.\n",
      "Previous efforts to evacuate Mariupol's civilians have been blocked by Russian fire, although local authorities say that thousands have been able to leave in private vehicles.\n",
      "On Sunday, the Ukrainian deputy prime minister said 3,985 people had fled from Mariupol to Zaporizhzhia, adding that on Monday the government plans on sending about 50 buses to pick up further evacuees from the city.  \n",
      "President Volodomyr Zelensky has said the Russian siege amounts to a \"war crime\".\n",
      "\"This is a totally deliberate tactic,\" he said. \"They [Russian forces] have a clear order to do absolutely everything to make the humanitarian catastrophe in Ukrainian cities an 'argument' for Ukrainians to cooperate with the occupiers\". \n",
      "The location of the port city, on the Sea of Azov, makes it a strategic target  for Russia, as it would help it create a land corridor between the eastern regions of Donetsk and Luhansk, controlled by Russian-backed separatists and Crimea, which was annexed by Russia in 2014.\n",
      "This video can not be played\n",
      "An evening out takes a dark turn...\n",
      "Robert Plant on how he felt about fronting Led Zeppelin\n",
      "From curbing late-night snacking to simply exercising more...\n"
     ]
    }
   ],
   "source": [
    "get_content(l.link[0])"
   ]
  }
 ],
 "metadata": {
  "interpreter": {
   "hash": "3e63482132cd177804ad55ee40df4b445c81008446e327e7d6aa26de5f74cb33"
  },
  "kernelspec": {
   "display_name": "Python 3.8.5 32-bit",
   "language": "python",
   "name": "python3"
  },
  "language_info": {
   "codemirror_mode": {
    "name": "ipython",
    "version": 3
   },
   "file_extension": ".py",
   "mimetype": "text/x-python",
   "name": "python",
   "nbconvert_exporter": "python",
   "pygments_lexer": "ipython3",
   "version": "3.8.5"
  },
  "orig_nbformat": 4
 },
 "nbformat": 4,
 "nbformat_minor": 2
}
