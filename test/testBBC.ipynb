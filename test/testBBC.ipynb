{
 "cells": [
  {
   "cell_type": "code",
   "execution_count": 1,
   "metadata": {},
   "outputs": [],
   "source": [
    "import pandas as pd\n",
    "import requests\n",
    "from bs4 import BeautifulSoup"
   ]
  },
  {
   "cell_type": "code",
   "execution_count": 2,
   "metadata": {},
   "outputs": [],
   "source": [
    "class news_BBC:\n",
    "    def __init__(self, url:str):\n",
    "        r = requests.get(url)\n",
    "        self.soup = BeautifulSoup(r.text, \"html.parser\")\n",
    "        self.link = self.get_link()\n",
    "        self.head = self.get_head()\n",
    "        self.body = self.get_body()\n",
    "        # self.content = self.get_content()\n",
    "        # self.save = self.get_save()\n",
    "\n",
    "    def get_link(self):\n",
    "        issue = self.soup.find_all('a', href = True, attrs = {'class' : 'qa-heading-link lx-stream-post__header-link'})\n",
    "        self.list_link = []\n",
    "        for i in issue:\n",
    "            self.list_link.append(\"https://www.bbc.com\"+i['href'])\n",
    "        return(self.list_link)\n",
    "\n",
    "    def get_head(self):\n",
    "        issue = self.soup.find_all('a', href = True, attrs = {'class' : 'qa-heading-link lx-stream-post__header-link'})\n",
    "        list_head = []\n",
    "        for i in issue:\n",
    "            # print('test', i.string)\n",
    "            if i.string == None:\n",
    "                pass\n",
    "            else:\n",
    "                list_head.append(i.string)\n",
    "        return(list_head)\n",
    "\n",
    "    def get_body(self):\n",
    "        # issue = self.soup.find_all('p', {'class' : 'lx-stream-related-story--summary qa-story-summary'} and {'class' : 'lx-media-asset-summary qa-map-summary gel-pica'})\n",
    "        issue = self.soup.find_all('p', {'class' : 'lx-stream-related-story--summary qa-story-summary'})\n",
    "        list_body = []\n",
    "        for i in issue:\n",
    "            if i.string == None:\n",
    "                pass\n",
    "            else:\n",
    "                list_body.append(i.string)\n",
    "        return(list_body)\n",
    "\n",
    "    # def get_content(self):\n",
    "    #     for j in self.list_link:\n",
    "    #         # print('url', j)\n",
    "    #         re = requests.get(j)\n",
    "    #         self.soup = BeautifulSoup(re.text, \"html.parser\")\n",
    "    #         issue = self.soup.find_all('p', {'class' : 'ssrcss-1q0x1qg-Paragraph eq5iqo00'})\n",
    "\n",
    "    #         list_content = []\n",
    "    #         for k in issue:\n",
    "    #             if k.string == None:\n",
    "    #                 pass\n",
    "    #             else:\n",
    "    #                 list_content.append(k.string)\n",
    "    #         return(list_content)\n",
    "\n",
    "\n",
    "    # def get_save(self):\n",
    "    #     table = {\"url\" : self.link, \"head\" : self.head, \"content\" : self.body}\n",
    "    #     df = pd.DataFrame(data = table)\n",
    "    #     df.to_excel('data-news' + '.xlsx', sheet_name='Sheet_name_01', index=False)\n",
    "    #     return df\n"
   ]
  },
  {
   "cell_type": "code",
   "execution_count": 3,
   "metadata": {},
   "outputs": [
    {
     "data": {
      "text/plain": [
       "['Couple to take in pregnant Ukrainian refugee',\n",
       " 'How can Ukrainian refugees come to the UK?',\n",
       " 'Veteran Russian reformer quits job as Putin envoy',\n",
       " 'The Ukrainian refugees living in an Irish castle',\n",
       " 'Nestle pulls KitKat and Nesquik out of Russia',\n",
       " 'Ukrainian orphans heading to Scotland after delay',\n",
       " 'Meaker continuing Ukraine aid support',\n",
       " 'Sunak: War in Ukraine a risk to economies',\n",
       " 'Ukrainian fightback gains ground west of Kyiv',\n",
       " 'Refugee family is reunited after offer of UK home',\n",
       " 'Urgent debate proposed to discuss war in Ukraine',\n",
       " 'What sanctions are being imposed on Russia?',\n",
       " 'Major port encircled but Russian advances have stalled',\n",
       " 'Grandfather fleeing Ukraine reunited with family',\n",
       " 'Deplorable scam emails fake fundraising for Ukraine',\n",
       " 'Saving the abandoned animals of Ukraine',\n",
       " \"Couple 'relieved' to have Ukrainian family in UK\",\n",
       " 'Cafe owner pleads with chancellor over NI hike',\n",
       " 'Driving instructor rescues girlfriend from Ukraine']"
      ]
     },
     "execution_count": 3,
     "metadata": {},
     "output_type": "execute_result"
    }
   ],
   "source": [
    "l = news_BBC(\"https://www.bbc.com/news/world-60525350\")\n",
    "l.head"
   ]
  },
  {
   "cell_type": "code",
   "execution_count": 4,
   "metadata": {},
   "outputs": [
    {
     "data": {
      "text/plain": [
       "['https://www.bbc.com/news/uk-england-hampshire-60835237',\n",
       " 'https://www.bbc.com/news/60555166',\n",
       " 'https://www.bbc.com/news/world-europe-60849918',\n",
       " 'https://www.bbc.com/news/world-europe-60840939',\n",
       " 'https://www.bbc.com/news/business-60850209',\n",
       " 'https://www.bbc.com/news/uk-scotland-60850379',\n",
       " 'https://www.bbc.com/sport/cricket/60848743',\n",
       " 'https://www.bbc.com/news/uk-politics-60838860',\n",
       " 'https://www.bbc.com/news/world-europe-60847188',\n",
       " 'https://www.bbc.com/news/uk-england-cambridgeshire-60846632',\n",
       " 'https://www.bbc.com/news/world-europe-guernsey-60847497',\n",
       " 'https://www.bbc.com/news/world-europe-60125659',\n",
       " 'https://www.bbc.com/news/world-europe-60506682',\n",
       " 'https://www.bbc.com/news/uk-england-somerset-60839696',\n",
       " 'https://www.bbc.com/news/technology-60836962',\n",
       " 'https://www.bbc.com/news/world-europe-60848142',\n",
       " 'https://www.bbc.com/news/uk-england-nottinghamshire-60836826',\n",
       " 'https://www.bbc.com/news/uk-wales-60835467',\n",
       " 'https://www.bbc.com/news/uk-england-tyne-60834952']"
      ]
     },
     "execution_count": 4,
     "metadata": {},
     "output_type": "execute_result"
    }
   ],
   "source": [
    "l.link"
   ]
  },
  {
   "cell_type": "code",
   "execution_count": 5,
   "metadata": {},
   "outputs": [
    {
     "data": {
      "text/plain": [
       "['The couple from Hampshire say they will drive to Poland to collect the young Ukrainian woman.',\n",
       " 'How is the government helping Ukrainian refugees come to the UK?',\n",
       " 'Anatoly Chubais, who was a special international envoy of the president, is said to have left Russia.',\n",
       " 'From a war-torn country to a 15th Century castle - how an Irishman is helping Ukrainian refugees.',\n",
       " 'The Swiss food giant drops some popular brands, but will still sell baby food and medical nutrition.',\n",
       " 'The children were supposed to leave Poland on Monday but were held up by paperwork problems.',\n",
       " 'Ex-Surrey and England bowler Stuart Meaker is continuing to support the effort to help refugees from the war in Ukraine.',\n",
       " 'Authorities in the town of Makariv, near the capital, say Ukrainian flags are flying there again.',\n",
       " 'Four generations of a Ukrainian family \"lost everything\" after fleeing war-torn Kharkiv.',\n",
       " 'A spokesperson for the committee proposing the debate said Guernsey \"stands with Ukraine\".',\n",
       " 'Western nations have imposed severe sanctions on Russia over its invasion of Ukraine.',\n",
       " 'Russian forces lay siege to the port city of Mariupol as advances elsewhere grind to a halt with Ukrainian forces launching counter-attacks.',\n",
       " 'Mykola Katrechko, 67, helped orphans escape bombing in Kharkiv, before joining his daughter in Bath.',\n",
       " 'Action Fraud warns of fake emails asking for donations to victims of the war.',\n",
       " 'Anzhelika Booth says she feared for their lives after Russia invaded Ukraine last month.',\n",
       " 'Louise Luporini says she has seen a 50% rise in the cost of some ingredients recently.',\n",
       " 'Mike Farrell drove more than 3,000 miles to bring his partner and her children to safety.']"
      ]
     },
     "execution_count": 5,
     "metadata": {},
     "output_type": "execute_result"
    }
   ],
   "source": [
    "l.body"
   ]
  },
  {
   "cell_type": "code",
   "execution_count": 6,
   "metadata": {},
   "outputs": [],
   "source": [
    "# l.content"
   ]
  },
  {
   "cell_type": "code",
   "execution_count": 7,
   "metadata": {},
   "outputs": [],
   "source": [
    "# l.save"
   ]
  },
  {
   "cell_type": "code",
   "execution_count": 8,
   "metadata": {},
   "outputs": [
    {
     "name": "stdout",
     "output_type": "stream",
     "text": [
      "https://www.bbc.com/news/uk-england-hampshire-60835237\n",
      "Couple to take in pregnant Ukrainian refugee\n"
     ]
    }
   ],
   "source": [
    "print(l.link[0])\n",
    "print(l.head[0])"
   ]
  },
  {
   "cell_type": "code",
   "execution_count": 9,
   "metadata": {},
   "outputs": [],
   "source": [
    "def get_content(url:str):\n",
    "    print('url', url)\n",
    "    print(\"\\n\")\n",
    "    re = requests.get(url)\n",
    "    soup = BeautifulSoup(re.text, \"html.parser\")\n",
    "    issue = soup.find_all('p', {'class' : 'ssrcss-1q0x1qg-Paragraph eq5iqo00'})\n",
    "\n",
    "    list_content = []\n",
    "    for k in issue:\n",
    "        if k.string == None:\n",
    "            pass\n",
    "        else:\n",
    "            print(k.string)\n",
    "            # list_content.append(k.string)\n",
    "    # return(list_content)"
   ]
  },
  {
   "cell_type": "code",
   "execution_count": 10,
   "metadata": {},
   "outputs": [
    {
     "name": "stdout",
     "output_type": "stream",
     "text": [
      "url https://www.bbc.com/news/uk-england-hampshire-60835237\n",
      "\n",
      "\n",
      "A couple opening up their home to a pregnant Ukrainian refugee are preparing to drive to Poland to pick her up.\n",
      "Peter O'Keefe and Belinda Harvey, who live near Winchester, have offered their spare room to Ksenia, from Kharkiv, who is seven months pregnant. \n",
      "Ksenia, 25, whose husband remains in Ukraine, is expected in Warsaw next week once her visa comes through.\n",
      "Ms Harvey said she had not had a newborn baby in her life since 1986. \n",
      "The couple, who are both photographers, live in a small three-bedroom cottage in Micheldever Station but have often played host to family members in need of shelter over the years.\n",
      "Ms Harvey said the decision to host the pregnant refugee came about by accident: \"There's another Belinda in the village and they were arranging a meeting. I got copied into an email with the details about this refugee and we just thought 'why not'.\n",
      "\"She's going to need a lot of help, put in contact with the local hospital, maternity services. We'll drive her places.\"\n",
      "The couple already have a cot in the house from when their son stayed with his family and say if they need anything else they can ask their \"incredibly supportive village\".\n",
      "\"Once she gets here I imagine she'll be really upset. I expect we'll have to be sympathetic, but we'll be guided by her and what she wants,\" Ms Harvey added.\n",
      "While Ksenia is having to leave her husband behind in Ukraine, she is bringing her Pomeranian dog. \n",
      "Ms Harvey said it should help fill the gap left after their pet dog was run over and killed earlier in the year. \n",
      "Stephen Fry shares the songs that make him feel good\n",
      "Kevin Parle has been on the run since 2004 - will he ever be brought to justice?\n",
      "Louis Theroux explores the issue with consent in the industry\n"
     ]
    }
   ],
   "source": [
    "get_content(l.link[0])"
   ]
  }
 ],
 "metadata": {
  "interpreter": {
   "hash": "3e63482132cd177804ad55ee40df4b445c81008446e327e7d6aa26de5f74cb33"
  },
  "kernelspec": {
   "display_name": "Python 3.8.5 32-bit",
   "language": "python",
   "name": "python3"
  },
  "language_info": {
   "codemirror_mode": {
    "name": "ipython",
    "version": 3
   },
   "file_extension": ".py",
   "mimetype": "text/x-python",
   "name": "python",
   "nbconvert_exporter": "python",
   "pygments_lexer": "ipython3",
   "version": "3.8.5"
  },
  "orig_nbformat": 4
 },
 "nbformat": 4,
 "nbformat_minor": 2
}
