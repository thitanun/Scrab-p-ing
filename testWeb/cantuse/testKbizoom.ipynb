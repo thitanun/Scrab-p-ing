{
 "cells": [
  {
   "cell_type": "code",
   "execution_count": 1,
   "metadata": {},
   "outputs": [],
   "source": [
    "import re\n",
    "import json\n",
    "from urllib.parse import urlparse\n",
    "import requests\n",
    "from bs4 import BeautifulSoup\n",
    "from concurrent.futures import ThreadPoolExecutor\n",
    "import pandas as pd\n"
   ]
  },
  {
   "cell_type": "code",
   "execution_count": 8,
   "metadata": {},
   "outputs": [],
   "source": [
    "class testKbizoom:\n",
    "\n",
    "    def __init__(self):\n",
    "        self.data = {}\n",
    "        self.data['web'] = {}\n",
    "\n",
    "    \n",
    "    def remove_unuse_tag(self, bs : BeautifulSoup):\n",
    "        unuse_tag = ['script', 'style ', 'noscript', 'head', 'footer', 'iframe']\n",
    "        for tag in unuse_tag:\n",
    "            for s in bs.select(tag):\n",
    "                if s != None:\n",
    "                    s.extract()\n",
    "        return bs\n",
    "\n",
    "    def clean_html(self, html : str):\n",
    "        clean = re.compile('<.*?>')\n",
    "        clean_text = re.sub(clean, '', html)\n",
    "        for char in ['\\n', '\\t', '\\r']:\n",
    "            clean_text = clean_text.replace(char, '')\n",
    "        clean_text = re.sub(' +', ' ', clean_text)\n",
    "        return clean_text\n",
    "\n",
    "    def data_in_link(self, session, url):\n",
    "        self.list_url = []\n",
    "        self.list_title = []\n",
    "        self.list_content = []\n",
    "\n",
    "        with session.get(url) as response:\n",
    "            if not response.ok:\n",
    "                return\n",
    "            print('test url', url)\n",
    "            \n",
    "            domain = urlparse(url).netloc\n",
    "            bs = BeautifulSoup(response.text, 'html.parser')\n",
    "            bs = self.remove_unuse_tag(bs)\n",
    "            # print('test bs inlink', bs)\n",
    "            \n",
    "            self.data['web'][url] = {}\n",
    "            self.data['web'][url]['title'] = bs.find('h1').text\n",
    "\n",
    "            self.content = ''\n",
    "            section = bs.find('div', {'class' : 'entry-content entry clearfix'})\n",
    "            # print('test sec', section)\n",
    "            for p in section.find_all('p'):\n",
    "                # print('test p', p)\n",
    "                self.content += f'{self.clean_html(p.text)} ' #p.text\n",
    "            self.data['web'][url]['content'] = self.content\n",
    "            # print('test content inlink', self.content)\n",
    "\n",
    "\n",
    "\n",
    "    def data_domain(self, session, url):\n",
    "        with session.get(url) as response:\n",
    "            # print('check re', response)\n",
    "            if not response.ok:\n",
    "                return\n",
    "            domain = urlparse(url).netloc\n",
    "            bs = BeautifulSoup(response.text, 'html.parser')\n",
    "            bs = self.remove_unuse_tag(bs)\n",
    "            # print('test bs domain', bs)\n",
    "\n",
    "            news_link = []\n",
    "            for div in bs.find_all('h2', {'class' : 'thumb-title'}):\n",
    "                a = div.find('a')\n",
    "                news_link.append(a.attrs['href'])\n",
    "            # print('test news_link domain', news_link)\n",
    "\n",
    "            n = len(news_link)\n",
    "            # print('test n news_link domain', n)\n",
    "            with ThreadPoolExecutor(max_workers=n) as executor:\n",
    "                with requests.Session() as session:\n",
    "                    executor.map(self.data_in_link, [session]*n, news_link)\n",
    "                    executor.shutdown(wait=True)\n",
    "\n",
    "\n",
    "    def scrap(self):\n",
    "        pages_list = [f'https://kbizoom.com/latest-news/page/{i}/' for i in range(1, 11)]\n",
    "        n = len(pages_list)\n",
    "        print('test page' , pages_list)\n",
    "        with ThreadPoolExecutor(max_workers=n) as executor:\n",
    "            with requests.Session() as session:\n",
    "                executor.map(self.data_domain, [session]*n, pages_list)\n",
    "                executor.shutdown(wait=True)\n",
    "\n",
    "\n",
    "    def save_to_json(self):\n",
    "        with open(f'Kbizoom.json', 'w', encoding=\"UTF-8\") as file:\n",
    "            datafile = json.dumps(self.data, indent=4) \n",
    "            file.write(datafile)\n",
    "\n",
    "\n",
    "    # def dataframe_web(self):\n",
    "\n",
    "    #     data_web = [[self.list_url\n",
    "    #                     ]]\n",
    "\n",
    "    #     web_frame = pd.DataFrame(data=data_web,\n",
    "    #                         columns=['link'])\n",
    "    #     return web_frame\n",
    "\n",
    "    # def twitter_to_xlsx(self, data):\n",
    "    #     data.to_excel(\"hey_test.xlsx\", engine=\"openpyxl\", index=False)\n"
   ]
  },
  {
   "cell_type": "code",
   "execution_count": 9,
   "metadata": {},
   "outputs": [
    {
     "data": {
      "text/plain": [
       "<__main__.testKbizoom at 0xdf4b970>"
      ]
     },
     "execution_count": 9,
     "metadata": {},
     "output_type": "execute_result"
    }
   ],
   "source": [
    "data = testKbizoom()\n",
    "data"
   ]
  },
  {
   "cell_type": "code",
   "execution_count": 10,
   "metadata": {},
   "outputs": [
    {
     "name": "stdout",
     "output_type": "stream",
     "text": [
      "test page ['https://kbizoom.com/latest-news/page/1/', 'https://kbizoom.com/latest-news/page/2/', 'https://kbizoom.com/latest-news/page/3/', 'https://kbizoom.com/latest-news/page/4/', 'https://kbizoom.com/latest-news/page/5/', 'https://kbizoom.com/latest-news/page/6/', 'https://kbizoom.com/latest-news/page/7/', 'https://kbizoom.com/latest-news/page/8/', 'https://kbizoom.com/latest-news/page/9/', 'https://kbizoom.com/latest-news/page/10/']\n"
     ]
    }
   ],
   "source": [
    "data.scrap()"
   ]
  },
  {
   "cell_type": "code",
   "execution_count": 11,
   "metadata": {},
   "outputs": [],
   "source": [
    "# data.dataframe_web()"
   ]
  },
  {
   "cell_type": "code",
   "execution_count": 12,
   "metadata": {},
   "outputs": [],
   "source": [
    "data.save_to_json()"
   ]
  },
  {
   "cell_type": "code",
   "execution_count": 13,
   "metadata": {},
   "outputs": [],
   "source": [
    "# hey = data.dataframe_web()\n",
    "# data.twitter_to_xlsx(hey)"
   ]
  }
 ],
 "metadata": {
  "interpreter": {
   "hash": "3e63482132cd177804ad55ee40df4b445c81008446e327e7d6aa26de5f74cb33"
  },
  "kernelspec": {
   "display_name": "Python 3.8.5 32-bit",
   "language": "python",
   "name": "python3"
  },
  "language_info": {
   "codemirror_mode": {
    "name": "ipython",
    "version": 3
   },
   "file_extension": ".py",
   "mimetype": "text/x-python",
   "name": "python",
   "nbconvert_exporter": "python",
   "pygments_lexer": "ipython3",
   "version": "3.8.5"
  },
  "orig_nbformat": 4
 },
 "nbformat": 4,
 "nbformat_minor": 2
}
