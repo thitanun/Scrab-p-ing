{
 "cells": [
  {
   "cell_type": "code",
   "execution_count": 8,
   "metadata": {},
   "outputs": [],
   "source": [
    "import re\n",
    "import json\n",
    "from urllib.parse import urlparse\n",
    "import requests\n",
    "from bs4 import BeautifulSoup\n",
    "from concurrent.futures import ThreadPoolExecutor\n",
    "import pandas as pd\n"
   ]
  },
  {
   "cell_type": "code",
   "execution_count": 9,
   "metadata": {},
   "outputs": [],
   "source": [
    "class testHelloKpop:\n",
    "\n",
    "    def __init__(self):\n",
    "        self.data = {}\n",
    "        self.data['web'] = {}\n",
    "\n",
    "    \n",
    "    def remove_unuse_tag(self, bs : BeautifulSoup):\n",
    "        unuse_tag = ['script', 'style ', 'noscript', 'head', 'footer', 'iframe']\n",
    "        for tag in unuse_tag:\n",
    "            for s in bs.select(tag):\n",
    "                if s != None:\n",
    "                    s.extract()\n",
    "        return bs\n",
    "\n",
    "    def clean_html(self, html : str):\n",
    "        clean = re.compile('<.*?>')\n",
    "        clean_text = re.sub(clean, '', html)\n",
    "        for char in ['\\n', '\\t', '\\r']:\n",
    "            clean_text = clean_text.replace(char, '')\n",
    "        clean_text = re.sub(' +', ' ', clean_text)\n",
    "        return clean_text\n",
    "\n",
    "    def data_in_link(self, session, url):\n",
    "        self.list_url = []\n",
    "        self.list_title = []\n",
    "        self.list_content = []\n",
    "\n",
    "        with session.get(url) as response:\n",
    "            if not response.ok:\n",
    "                return\n",
    "            print('test url', url)\n",
    "            \n",
    "            domain = urlparse(url).netloc\n",
    "            bs = BeautifulSoup(response.text, 'html.parser')\n",
    "            bs = self.remove_unuse_tag(bs)\n",
    "            # print('test bs inlink', bs)\n",
    "            \n",
    "            self.data['web'][url] = {}\n",
    "            self.data['web'][url]['title'] = bs.find('h1').text\n",
    "\n",
    "            self.content = ''\n",
    "            section = bs.find('div', {'id' : 'content-area'})\n",
    "            # print('test sec', section)\n",
    "            for p in section.find_all('p'):\n",
    "                # print('test p', p)\n",
    "                self.content += f'{self.clean_html(p.text)} ' #p.text\n",
    "            self.data['web'][url]['content'] = self.content\n",
    "            # print('test content inlink', self.content)\n",
    "\n",
    "\n",
    "\n",
    "    def data_domain(self, session, url):\n",
    "        with session.get(url) as response:\n",
    "            # print('check re', response)\n",
    "            if not response.ok:\n",
    "                return\n",
    "            domain = urlparse(url).netloc\n",
    "            bs = BeautifulSoup(response.text, 'html.parser')\n",
    "            bs = self.remove_unuse_tag(bs)\n",
    "            # print('test bs domain', bs)\n",
    "\n",
    "            news_link = []\n",
    "            for li in bs.find_all('li', {'class' : 'infinite-post'}):\n",
    "                a = li.find('a')\n",
    "                news_link.append(a.attrs['href'])\n",
    "            # print('test news_link domain', news_link)\n",
    "\n",
    "            n = len(news_link)\n",
    "            # print('test n news_link domain', n)\n",
    "            with ThreadPoolExecutor(max_workers=n) as executor:\n",
    "                with requests.Session() as session:\n",
    "                    executor.map(self.data_in_link, [session]*n, news_link)\n",
    "                    executor.shutdown(wait=True)\n",
    "\n",
    "\n",
    "    def scrap(self):\n",
    "        pages_list = [f'https://www.hellokpop.com/page/{i}' for i in range(1, 11)]\n",
    "        n = len(pages_list)\n",
    "        print('test page list', pages_list)\n",
    "        with ThreadPoolExecutor(max_workers=n) as executor:\n",
    "            with requests.Session() as session:\n",
    "                executor.map(self.data_domain, [session]*n, pages_list)\n",
    "                executor.shutdown(wait=True)\n",
    "\n",
    "\n",
    "    def save_to_json(self):\n",
    "        with open(f'HelloKpop.json', 'w', encoding=\"UTF-8\") as file:\n",
    "            datafile = json.dumps(self.data, indent=4) \n",
    "            file.write(datafile)\n",
    "\n",
    "\n",
    "    # def dataframe_web(self):\n",
    "\n",
    "    #     data_web = [[self.list_url\n",
    "    #                     ]]\n",
    "\n",
    "    #     web_frame = pd.DataFrame(data=data_web,\n",
    "    #                         columns=['link'])\n",
    "    #     return web_frame\n",
    "\n",
    "    # def twitter_to_xlsx(self, data):\n",
    "    #     data.to_excel(\"hey_test.xlsx\", engine=\"openpyxl\", index=False)\n"
   ]
  },
  {
   "cell_type": "code",
   "execution_count": 10,
   "metadata": {},
   "outputs": [
    {
     "data": {
      "text/plain": [
       "<__main__.testHelloKpop at 0xe6c3190>"
      ]
     },
     "execution_count": 10,
     "metadata": {},
     "output_type": "execute_result"
    }
   ],
   "source": [
    "data = testHelloKpop()\n",
    "data"
   ]
  },
  {
   "cell_type": "code",
   "execution_count": 11,
   "metadata": {},
   "outputs": [
    {
     "name": "stdout",
     "output_type": "stream",
     "text": [
      "test page list ['https://www.hellokpop.com/page/1', 'https://www.hellokpop.com/page/2', 'https://www.hellokpop.com/page/3', 'https://www.hellokpop.com/page/4', 'https://www.hellokpop.com/page/5', 'https://www.hellokpop.com/page/6', 'https://www.hellokpop.com/page/7', 'https://www.hellokpop.com/page/8', 'https://www.hellokpop.com/page/9', 'https://www.hellokpop.com/page/10']\n",
      "test urltest url https://www.hellokpop.com/news/kang-daniel-gears-up-for-comeback-in-may/\n",
      " https://www.hellokpop.com/news/vixx-ravi-to-temporarily-leave-2-days-1-night-to-fulfill-mandatory-military-service/\n",
      "test url https://www.hellokpop.com/news/hybe-completes-2-week-run-of-bts-permission-to-dance-the-city-las-vegas/\n",
      "test url https://www.hellokpop.com/kpop/ateez-surpasses-one-billion-cumulative-spotify-streams/\n",
      "test urltest url https://www.hellokpop.com/kpop/viviz-to-become-first-k-pop-girl-group-to-perform-on-grammys-global-spin/\n",
      " https://www.hellokpop.com/news/dance-prodigy-na-ha-eun-joins-sm-entertainment/\n",
      "test url https://www.hellokpop.com/internet/bts-v-surpasses-40-million-instagram-followers-in-record-time/\n",
      "test url https://www.hellokpop.com/tv-movies/winner-to-visit-knowing-bros-as-complete-group/\n",
      "test url https://www.hellokpop.com/interview/hkp-exclusive-interview-luminous-claims-the-spotlight-with-their-latest-comeback-between-light-and-darkness-self-n-ego/\n",
      "test url https://www.hellokpop.com/kpop/monsta-x-global-comeback-show-shape-of-love/\n",
      "test url https://www.hellokpop.com/internet/iu-surpasses-100-million-views-on-youtube-with-through-the-night/\n",
      "test url https://www.hellokpop.com/tv-movies/dream-park-seo-joon-and-iu-completes-filming/\n",
      "test url https://www.hellokpop.com/competition/hellokpopxhellolive-ticket-giveaway-b-is-1st-fan-meeting/\n",
      "test url https://www.hellokpop.com/review/thirty-nine-kdrama-review/\n",
      "test url https://www.hellokpop.com/news/ikon-drops-first-teaser-for-upcoming-may-comeback/\n",
      "test url https://www.hellokpop.com/tv-movies/yaksha-ruthless-operations-impressively-garners-netflixs-global-viewers/\n",
      "test url https://www.hellokpop.com/news/blackpinks-jennie-overtakes-as-no-1-girl-group-member-in-april-brand-rankings/\n",
      "test url https://www.hellokpop.com/tv-movies/kim-min-kyu-to-guest-in-sbs-show-master-in-the-house/\n",
      "test url https://www.hellokpop.com/news/bigbang-earns-perfect-all-kill-status-with-latest-masterpiece-still-life/\n",
      "test url https://www.hellokpop.com/tv-movies/project-wolf-hunting-starring-seo-in-guk-and-jang-dong-yoon-completes-filming/\n",
      "test url https://www.hellokpop.com/kpop/ateez-to-release-their-second-japanese-mini-album-beyond-zero/\n",
      "test url https://www.hellokpop.com/kdrama/monstrous-mounts-haunting-and-cryptic-supernatural-story/\n"
     ]
    }
   ],
   "source": [
    "data.scrap()"
   ]
  },
  {
   "cell_type": "code",
   "execution_count": 12,
   "metadata": {},
   "outputs": [],
   "source": [
    "# data.dataframe_web()"
   ]
  },
  {
   "cell_type": "code",
   "execution_count": 13,
   "metadata": {},
   "outputs": [],
   "source": [
    "data.save_to_json()"
   ]
  },
  {
   "cell_type": "code",
   "execution_count": 14,
   "metadata": {},
   "outputs": [],
   "source": [
    "# hey = data.dataframe_web()\n",
    "# data.twitter_to_xlsx(hey)"
   ]
  }
 ],
 "metadata": {
  "interpreter": {
   "hash": "3e63482132cd177804ad55ee40df4b445c81008446e327e7d6aa26de5f74cb33"
  },
  "kernelspec": {
   "display_name": "Python 3.8.5 32-bit",
   "language": "python",
   "name": "python3"
  },
  "language_info": {
   "codemirror_mode": {
    "name": "ipython",
    "version": 3
   },
   "file_extension": ".py",
   "mimetype": "text/x-python",
   "name": "python",
   "nbconvert_exporter": "python",
   "pygments_lexer": "ipython3",
   "version": "3.8.5"
  },
  "orig_nbformat": 4
 },
 "nbformat": 4,
 "nbformat_minor": 2
}
